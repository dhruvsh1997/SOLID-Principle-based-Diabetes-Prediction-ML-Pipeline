{
  "nbformat": 4,
  "nbformat_minor": 0,
  "metadata": {
    "colab": {
      "provenance": []
    },
    "kernelspec": {
      "name": "python3",
      "display_name": "Python 3"
    },
    "language_info": {
      "name": "python"
    }
  },
  "cells": [
    {
      "cell_type": "code",
      "execution_count": 25,
      "metadata": {
        "id": "zKVfmGkovup2"
      },
      "outputs": [],
      "source": [
        "import numpy as np\n",
        "import polars as pl\n",
        "import pandas as pd\n",
        "from sklearn.model_selection import train_test_split\n",
        "from sklearn.preprocessing import LabelEncoder, StandardScaler\n",
        "from sklearn.feature_selection import VarianceThreshold\n",
        "from sklearn.decomposition import PCA\n",
        "from sklearn.tree import DecisionTreeClassifier\n",
        "from sklearn.ensemble import RandomForestClassifier\n",
        "from sklearn.metrics import accuracy_score, precision_score, recall_score, f1_score, confusion_matrix, classification_report\n",
        "import xgboost as xgb\n",
        "import seaborn as sns\n",
        "import matplotlib.pyplot as plt\n",
        "from scipy import stats\n",
        "import uuid\n",
        "import pickle\n",
        "#Dataset from : - https://www.kaggle.com/datasets/nanditapore/healthcare-diabetes?resource=download\n",
        "# Set random seed for reproducibility\n",
        "np.random.seed(42)"
      ]
    },
    {
      "cell_type": "code",
      "source": [
        "class DataLoader:\n",
        "    def __init__(self, file_path):\n",
        "        self.file_path = \"\"\n",
        "        self.df = None\n",
        "        self.quotes = [\"Stay healthy\", \"Live well\", \"Stay active\", \"Eat balanced\", \"Keep calm\"]\n",
        "        self.cities = [\"New York\", \"Los Angeles\", \"Chicago\", \"Houston\", \"Phoenix\"]\n",
        "        self.outcome_mapping = {0: \"No Diabetes\", 1: \"Diabetes\"}\n",
        "\n",
        "    def fetch_dataset(self, file_path):\n",
        "        self.df = pl.read_csv(self.file_path)\n",
        "        self.df = self.df.with_columns([\n",
        "            pl.Series(\"Quote\", np.random.choice(self.quotes, size=self.df.height)).cast(pl.Utf8),\n",
        "            pl.Series(\"City\", np.random.choice(self.cities, size=self.df.height)).cast(pl.Utf8)\n",
        "        ])\n",
        "\n",
        "    def __printShape(self):\n",
        "        print(\"Dataset Shape:\", self.df.shape)\n",
        "\n",
        "    def _printHead(self):\n",
        "        print(\"Dataset Head:\")\n",
        "        print(self.df.head())\n",
        "\n",
        "    @staticmethod\n",
        "    def editAttribute(self):\n",
        "        self.df = self.df.with_columns(\n",
        "            pl.col(\"Outcome\").map_elements(lambda x: self.outcome_mapping.get(x, None)).cast(pl.Utf8).alias(\"Outcome\")\n",
        "        )\n",
        "\n",
        "    def load_dataset(self, file_path):\n",
        "        self.file_path = file_path\n",
        "        self.fetch_dataset(file_path)\n",
        "        self.editAttribute(self)\n",
        "        self.__printShape()\n",
        "        return self.df\n",
        "\n",
        "    def __del__(self):\n",
        "        print(f\"DataLoader Object Deleted with file_path, quotes, cities, outcome_mapping. \")"
      ],
      "metadata": {
        "id": "15yvtByOwCCY"
      },
      "execution_count": 76,
      "outputs": []
    },
    {
      "cell_type": "code",
      "source": [
        "dl=DataLoader(\"/content/Healthcare-Diabetes.csv\")\n",
        "df=dl.load_dataset(\"/content/Healthcare-Diabetes.csv\")\n",
        "dl._printHead()"
      ],
      "metadata": {
        "colab": {
          "base_uri": "https://localhost:8080/"
        },
        "id": "zIbWMYJK3919",
        "outputId": "8fef69fb-4da4-4034-d080-b22189f50859"
      },
      "execution_count": 77,
      "outputs": [
        {
          "output_type": "stream",
          "name": "stdout",
          "text": [
            "DataLoader Object Deleted with file_path, quotes, cities, outcome_mapping. \n",
            "Dataset Shape: (2768, 12)\n",
            "Dataset Head:\n",
            "shape: (5, 12)\n",
            "┌─────┬─────────────┬─────────┬───────────────┬───┬─────┬─────────────┬──────────────┬─────────────┐\n",
            "│ Id  ┆ Pregnancies ┆ Glucose ┆ BloodPressure ┆ … ┆ Age ┆ Outcome     ┆ Quote        ┆ City        │\n",
            "│ --- ┆ ---         ┆ ---     ┆ ---           ┆   ┆ --- ┆ ---         ┆ ---          ┆ ---         │\n",
            "│ i64 ┆ i64         ┆ i64     ┆ i64           ┆   ┆ i64 ┆ str         ┆ str          ┆ str         │\n",
            "╞═════╪═════════════╪═════════╪═══════════════╪═══╪═════╪═════════════╪══════════════╪═════════════╡\n",
            "│ 1   ┆ 6           ┆ 148     ┆ 72            ┆ … ┆ 50  ┆ Diabetes    ┆ Live well    ┆ Houston     │\n",
            "│ 2   ┆ 1           ┆ 85      ┆ 66            ┆ … ┆ 31  ┆ No Diabetes ┆ Keep calm    ┆ Los Angeles │\n",
            "│ 3   ┆ 8           ┆ 183     ┆ 64            ┆ … ┆ 32  ┆ Diabetes    ┆ Keep calm    ┆ Chicago     │\n",
            "│ 4   ┆ 1           ┆ 89      ┆ 66            ┆ … ┆ 21  ┆ No Diabetes ┆ Stay active  ┆ Phoenix     │\n",
            "│ 5   ┆ 0           ┆ 137     ┆ 40            ┆ … ┆ 33  ┆ Diabetes    ┆ Eat balanced ┆ Chicago     │\n",
            "└─────┴─────────────┴─────────┴───────────────┴───┴─────┴─────────────┴──────────────┴─────────────┘\n"
          ]
        },
        {
          "output_type": "stream",
          "name": "stderr",
          "text": [
            "sys:1: MapWithoutReturnDtypeWarning: Calling `map_elements` without specifying `return_dtype` can lead to unpredictable results. Specify `return_dtype` to silence this warning.\n"
          ]
        }
      ]
    },
    {
      "cell_type": "code",
      "source": [
        "#printing shape through Name mangling\n",
        "dl._DataLoader__printShape()\n",
        "dl.__del__()"
      ],
      "metadata": {
        "colab": {
          "base_uri": "https://localhost:8080/"
        },
        "id": "tCmaYF-o4tj6",
        "outputId": "78de5967-6d86-4dc3-f4f9-8e9d32a5f25c"
      },
      "execution_count": 78,
      "outputs": [
        {
          "output_type": "stream",
          "name": "stdout",
          "text": [
            "Dataset Shape: (2768, 12)\n",
            "DataLoader Object Deleted with file_path, quotes, cities, outcome_mapping. \n"
          ]
        }
      ]
    },
    {
      "cell_type": "code",
      "source": [
        "df.shape"
      ],
      "metadata": {
        "colab": {
          "base_uri": "https://localhost:8080/"
        },
        "id": "DsOm1BWL0uOs",
        "outputId": "4b45e8a9-9a19-4296-d00d-b3de969841e9"
      },
      "execution_count": 79,
      "outputs": [
        {
          "output_type": "execute_result",
          "data": {
            "text/plain": [
              "(2768, 12)"
            ]
          },
          "metadata": {},
          "execution_count": 79
        }
      ]
    },
    {
      "cell_type": "code",
      "source": [
        "class DataCleaner:\n",
        "    def __init__(self, df):\n",
        "        self.df = df\n",
        "        self.numeric_cols=[]\n",
        "\n",
        "    @classmethod\n",
        "    def check_count(cls):\n",
        "        print(\"Null counts:\\n\", df.null_count())\n",
        "\n",
        "    def replace_null(self):\n",
        "      # Replace nulls with mean for numeric columns\n",
        "      self.numeric_cols = [col for col, dtype in zip(self.df.columns, self.df.dtypes) if dtype in [pl.Float64, pl.Int64]]\n",
        "      for col in self.numeric_cols:\n",
        "          if self.df[col].null_count() > 0:\n",
        "              self.df = self.df.with_columns(\n",
        "                  pl.col(col).fill_null(pl.col(col).mean()).alias(col)\n",
        "              )\n",
        "\n",
        "    def __printHead(self):\n",
        "        print(\"Dataset Head:\")\n",
        "        print(self.df.head())\n",
        "\n",
        "    def __printShape(self):\n",
        "        print(\"Dataset Shape:\", self.df.height, self.df.width)\n",
        "\n",
        "    def _check_remove_duplicates(self):\n",
        "        print(\"Duplicate rows:\", self.df.is_duplicated().sum())\n",
        "        self.df = self.df.unique()\n",
        "\n",
        "    def cleanData(self):\n",
        "        self.check_count()\n",
        "        self.replace_null()\n",
        "        self._check_remove_duplicates()\n",
        "        self.__printShape()\n",
        "        return self.df\n",
        "\n",
        "    def __del__(self):\n",
        "        print(\"DataCleaner object deleted\")"
      ],
      "metadata": {
        "id": "9AfShlY10uJE"
      },
      "execution_count": 80,
      "outputs": []
    },
    {
      "cell_type": "code",
      "source": [
        "class DataOutlier(DataCleaner):\n",
        "    def __init__(self, df):\n",
        "        super().__init__(df)\n",
        "        self.df=self.cleanData()\n",
        "        self.df_pandas = self.df.to_pandas()\n",
        "        self.threshold = 3\n",
        "\n",
        "    def cal_z_score(self):\n",
        "        z_scores = np.abs(stats.zscore(self.df_pandas[self.numeric_cols]))\n",
        "        outlier_mask = (z_scores < self.threshold).all(axis=1)\n",
        "        return outlier_mask\n",
        "\n",
        "    def _printOutlier(self):\n",
        "        print(\"Calculate Outlier:\", self.cal_z_score())\n",
        "\n",
        "    @staticmethod\n",
        "    def statistical_info(self):\n",
        "        print(\"Statistical summary:\\n\", self.df.describe())\n",
        "\n",
        "    def remove_outliers(self):\n",
        "        outlier_mask = self.cal_z_score()\n",
        "        self.df_pandas = self.df_pandas[outlier_mask]\n",
        "        print(self.df_pandas.head(2))\n",
        "        self._printOutlier()\n",
        "        return pl.from_pandas(self.df_pandas)\n",
        "\n",
        "    def __del__(self):\n",
        "        print(\"DataOutlier object deleted\")"
      ],
      "metadata": {
        "id": "lDJJD7Cs0uDA"
      },
      "execution_count": 81,
      "outputs": []
    },
    {
      "cell_type": "code",
      "source": [
        "class DataNormaliseStandardise(DataOutlier):\n",
        "    def __init__(self, df):\n",
        "        super().__init__(df)\n",
        "        self.df=self.remove_outliers()\n",
        "        self.categorical_cols = ['Quote', 'City', 'Outcome']\n",
        "        self.le = LabelEncoder()\n",
        "        self.original_mappings = {}\n",
        "        self.scaler = StandardScaler()\n",
        "\n",
        "    def normaliseCatagoricalLabel(self):\n",
        "        for col in self.categorical_cols:\n",
        "          self.df = self.df.with_columns(\n",
        "              pl.Series(col, self.le.fit_transform(self.df[col].to_pandas())).cast(pl.UInt32).alias(col)\n",
        "          )\n",
        "          self.original_mappings[col] = dict(zip(self.le.classes_, range(len(self.le.classes_))))\n",
        "        print(\"\\n\",self.df.head(2),\"\\nLabel Encoded mappings:\", self.original_mappings)\n",
        "        #print statistial info from parent class\n",
        "        super().statistical_info(self)\n",
        "\n",
        "    def sort_rearrange(self):\n",
        "      print(f\"Sort By Age: {np.array(self.df['Age'].unique().sort())}\")\n",
        "\n",
        "    def __showHead(self):\n",
        "      print(self.df.head(2), \"\\n\\nRearrange by BloodPressure:\")\n",
        "      print(self.df.with_columns(pl.col(\"BloodPressure\").cast(pl.UInt32).alias(\"BloodPressure_encoded\")).head(2))\n",
        "      print(\"\\n\",pl.Categorical)\n",
        "\n",
        "    def preprocess_standardise(self):\n",
        "        #Normalise\n",
        "        self.normaliseCatagoricalLabel()\n",
        "        self.df_pandas = self.df.to_pandas()\n",
        "        # Standard Scaling\n",
        "        self.df_pandas[self.numeric_cols] = self.scaler.fit_transform(self.df_pandas[self.numeric_cols])\n",
        "        self.sort_rearrange()\n",
        "        return pl.from_pandas(self.df_pandas)\n",
        "\n",
        "    def __del__(self):\n",
        "        # Save StandardScaler\n",
        "        with open(\"scaler.pkl\", \"wb\") as f:\n",
        "            pickle.dump(dns.scaler, f)\n",
        "        print(\"DataNormaliseStandardise object deleted\")"
      ],
      "metadata": {
        "id": "7h_5-PR10uF5"
      },
      "execution_count": 82,
      "outputs": []
    },
    {
      "cell_type": "code",
      "source": [
        "dns=DataNormaliseStandardise(df)\n",
        "df=dns.preprocess_standardise()\n",
        "dns._DataCleaner__printShape()"
      ],
      "metadata": {
        "colab": {
          "base_uri": "https://localhost:8080/"
        },
        "id": "prF2bNjHF3xv",
        "outputId": "bbbafa73-9cee-49c8-999d-8853107a0727"
      },
      "execution_count": 83,
      "outputs": [
        {
          "output_type": "stream",
          "name": "stdout",
          "text": [
            "Null counts:\n",
            " shape: (1, 12)\n",
            "┌─────┬─────────────┬─────────┬───────────────┬───┬─────┬─────────┬───────┬──────┐\n",
            "│ Id  ┆ Pregnancies ┆ Glucose ┆ BloodPressure ┆ … ┆ Age ┆ Outcome ┆ Quote ┆ City │\n",
            "│ --- ┆ ---         ┆ ---     ┆ ---           ┆   ┆ --- ┆ ---     ┆ ---   ┆ ---  │\n",
            "│ u32 ┆ u32         ┆ u32     ┆ u32           ┆   ┆ u32 ┆ u32     ┆ u32   ┆ u32  │\n",
            "╞═════╪═════════════╪═════════╪═══════════════╪═══╪═════╪═════════╪═══════╪══════╡\n",
            "│ 0   ┆ 0           ┆ 0       ┆ 0             ┆ … ┆ 0   ┆ 0       ┆ 0     ┆ 0    │\n",
            "└─────┴─────────────┴─────────┴───────────────┴───┴─────┴─────────┴───────┴──────┘\n",
            "Duplicate rows: 0\n",
            "Dataset Shape: 2768 12\n",
            "     Id  Pregnancies  Glucose  BloodPressure  SkinThickness  Insulin   BMI  \\\n",
            "0  1233           10      115             98              0        0  24.0   \n",
            "1  2036            0       95             85             25       36  37.4   \n",
            "\n",
            "   DiabetesPedigreeFunction  Age      Outcome         Quote         City  \n",
            "0                     1.022   34  No Diabetes     Keep calm  Los Angeles  \n",
            "1                     0.247   24     Diabetes  Stay healthy  Los Angeles  \n",
            "Calculate Outlier: [ True  True  True ...  True  True  True]\n",
            "\n",
            " shape: (2, 12)\n",
            "┌──────┬─────────────┬─────────┬───────────────┬───┬─────┬─────────┬───────┬──────┐\n",
            "│ Id   ┆ Pregnancies ┆ Glucose ┆ BloodPressure ┆ … ┆ Age ┆ Outcome ┆ Quote ┆ City │\n",
            "│ ---  ┆ ---         ┆ ---     ┆ ---           ┆   ┆ --- ┆ ---     ┆ ---   ┆ ---  │\n",
            "│ i64  ┆ i64         ┆ i64     ┆ i64           ┆   ┆ i64 ┆ u32     ┆ u32   ┆ u32  │\n",
            "╞══════╪═════════════╪═════════╪═══════════════╪═══╪═════╪═════════╪═══════╪══════╡\n",
            "│ 1233 ┆ 10          ┆ 115     ┆ 98            ┆ … ┆ 34  ┆ 1       ┆ 1     ┆ 2    │\n",
            "│ 2036 ┆ 0           ┆ 95      ┆ 85            ┆ … ┆ 24  ┆ 0       ┆ 4     ┆ 2    │\n",
            "└──────┴─────────────┴─────────┴───────────────┴───┴─────┴─────────┴───────┴──────┘ \n",
            "Label Encoded mappings: {'Quote': {'Eat balanced': 0, 'Keep calm': 1, 'Live well': 2, 'Stay active': 3, 'Stay healthy': 4}, 'City': {'Chicago': 0, 'Houston': 1, 'Los Angeles': 2, 'New York': 3, 'Phoenix': 4}, 'Outcome': {'Diabetes': 0, 'No Diabetes': 1}}\n",
            "Statistical summary:\n",
            " shape: (9, 13)\n",
            "┌────────────┬────────────┬───────────┬───────────┬───┬───────────┬──────────┬──────────┬──────────┐\n",
            "│ statistic  ┆ Id         ┆ Pregnanci ┆ Glucose   ┆ … ┆ Age       ┆ Outcome  ┆ Quote    ┆ City     │\n",
            "│ ---        ┆ ---        ┆ es        ┆ ---       ┆   ┆ ---       ┆ ---      ┆ ---      ┆ ---      │\n",
            "│ str        ┆ f64        ┆ ---       ┆ f64       ┆   ┆ f64       ┆ f64      ┆ f64      ┆ f64      │\n",
            "│            ┆            ┆ f64       ┆           ┆   ┆           ┆          ┆          ┆          │\n",
            "╞════════════╪════════════╪═══════════╪═══════════╪═══╪═══════════╪══════════╪══════════╪══════════╡\n",
            "│ count      ┆ 2477.0     ┆ 2477.0    ┆ 2477.0    ┆ … ┆ 2477.0    ┆ 2477.0   ┆ 2477.0   ┆ 2477.0   │\n",
            "│ null_count ┆ 0.0        ┆ 0.0       ┆ 0.0       ┆ … ┆ 0.0       ┆ 0.0      ┆ 0.0      ┆ 0.0      │\n",
            "│ mean       ┆ 1385.42188 ┆ 3.738393  ┆ 120.51231 ┆ … ┆ 33.025838 ┆ 0.672184 ┆ 1.930965 ┆ 2.043197 │\n",
            "│            ┆ 1          ┆           ┆ 3         ┆   ┆           ┆          ┆          ┆          │\n",
            "│ std        ┆ 798.128352 ┆ 3.227537  ┆ 30.093895 ┆ … ┆ 11.469218 ┆ 0.469512 ┆ 1.410094 ┆ 1.418545 │\n",
            "│ min        ┆ 1.0        ┆ 0.0       ┆ 44.0      ┆ … ┆ 21.0      ┆ 0.0      ┆ 0.0      ┆ 0.0      │\n",
            "│ 25%        ┆ 697.0      ┆ 1.0       ┆ 99.0      ┆ … ┆ 24.0      ┆ 0.0      ┆ 1.0      ┆ 1.0      │\n",
            "│ 50%        ┆ 1385.0     ┆ 3.0       ┆ 115.0     ┆ … ┆ 29.0      ┆ 1.0      ┆ 2.0      ┆ 2.0      │\n",
            "│ 75%        ┆ 2070.0     ┆ 6.0       ┆ 139.0     ┆ … ┆ 40.0      ┆ 1.0      ┆ 3.0      ┆ 3.0      │\n",
            "│ max        ┆ 2768.0     ┆ 13.0      ┆ 199.0     ┆ … ┆ 68.0      ┆ 1.0      ┆ 4.0      ┆ 4.0      │\n",
            "└────────────┴────────────┴───────────┴───────────┴───┴───────────┴──────────┴──────────┴──────────┘\n",
            "Sort By Age: [21 22 23 24 25 26 27 28 29 30 31 32 33 34 35 36 37 38 39 40 41 42 43 44\n",
            " 45 46 47 48 49 50 51 52 53 54 55 56 57 58 59 60 61 62 63 64 65 66 67 68]\n",
            "Dataset Shape: 2477 12\n"
          ]
        }
      ]
    },
    {
      "cell_type": "code",
      "source": [
        "dns._DataNormaliseStandardise__showHead()\n",
        "# Save LabelEncoders (we reconstruct them from `original_mappings`)\n",
        "label_encoders = {}\n",
        "for col in dns.categorical_cols:\n",
        "    le = LabelEncoder()\n",
        "    le.classes_ = np.array(list(dns.original_mappings[col].keys()))\n",
        "    label_encoders[col] = le\n",
        "\n",
        "with open(\"label_encoders.pkl\", \"wb\") as f:\n",
        "    pickle.dump(label_encoders, f)\n",
        "\n",
        "dns.__del__()"
      ],
      "metadata": {
        "colab": {
          "base_uri": "https://localhost:8080/"
        },
        "id": "x78ecqrgLq4T",
        "outputId": "2f1f8f2e-747e-4b35-f9a2-403114a58201"
      },
      "execution_count": 84,
      "outputs": [
        {
          "output_type": "stream",
          "name": "stdout",
          "text": [
            "shape: (2, 12)\n",
            "┌──────┬─────────────┬─────────┬───────────────┬───┬─────┬─────────┬───────┬──────┐\n",
            "│ Id   ┆ Pregnancies ┆ Glucose ┆ BloodPressure ┆ … ┆ Age ┆ Outcome ┆ Quote ┆ City │\n",
            "│ ---  ┆ ---         ┆ ---     ┆ ---           ┆   ┆ --- ┆ ---     ┆ ---   ┆ ---  │\n",
            "│ i64  ┆ i64         ┆ i64     ┆ i64           ┆   ┆ i64 ┆ u32     ┆ u32   ┆ u32  │\n",
            "╞══════╪═════════════╪═════════╪═══════════════╪═══╪═════╪═════════╪═══════╪══════╡\n",
            "│ 1233 ┆ 10          ┆ 115     ┆ 98            ┆ … ┆ 34  ┆ 1       ┆ 1     ┆ 2    │\n",
            "│ 2036 ┆ 0           ┆ 95      ┆ 85            ┆ … ┆ 24  ┆ 0       ┆ 4     ┆ 2    │\n",
            "└──────┴─────────────┴─────────┴───────────────┴───┴─────┴─────────┴───────┴──────┘ \n",
            "\n",
            "Rearrange by BloodPressure:\n",
            "shape: (2, 13)\n",
            "┌──────┬─────────────┬─────────┬───────────────┬───┬─────────┬───────┬──────┬──────────────────────┐\n",
            "│ Id   ┆ Pregnancies ┆ Glucose ┆ BloodPressure ┆ … ┆ Outcome ┆ Quote ┆ City ┆ BloodPressure_encode │\n",
            "│ ---  ┆ ---         ┆ ---     ┆ ---           ┆   ┆ ---     ┆ ---   ┆ ---  ┆ d                    │\n",
            "│ i64  ┆ i64         ┆ i64     ┆ i64           ┆   ┆ u32     ┆ u32   ┆ u32  ┆ ---                  │\n",
            "│      ┆             ┆         ┆               ┆   ┆         ┆       ┆      ┆ u32                  │\n",
            "╞══════╪═════════════╪═════════╪═══════════════╪═══╪═════════╪═══════╪══════╪══════════════════════╡\n",
            "│ 1233 ┆ 10          ┆ 115     ┆ 98            ┆ … ┆ 1       ┆ 1     ┆ 2    ┆ 98                   │\n",
            "│ 2036 ┆ 0           ┆ 95      ┆ 85            ┆ … ┆ 0       ┆ 4     ┆ 2    ┆ 85                   │\n",
            "└──────┴─────────────┴─────────┴───────────────┴───┴─────────┴───────┴──────┴──────────────────────┘\n",
            "\n",
            " Categorical\n",
            "DataNormaliseStandardise object deleted\n"
          ]
        }
      ]
    },
    {
      "cell_type": "code",
      "source": [
        "df.head()"
      ],
      "metadata": {
        "id": "Px3RXgfgPoQF",
        "colab": {
          "base_uri": "https://localhost:8080/",
          "height": 255
        },
        "outputId": "390554dc-54df-4de7-e398-fa4d66fbffae"
      },
      "execution_count": 85,
      "outputs": [
        {
          "output_type": "execute_result",
          "data": {
            "text/plain": [
              "shape: (5, 12)\n",
              "┌───────────┬─────────────┬───────────┬───────────────┬───┬───────────┬─────────┬───────┬──────┐\n",
              "│ Id        ┆ Pregnancies ┆ Glucose   ┆ BloodPressure ┆ … ┆ Age       ┆ Outcome ┆ Quote ┆ City │\n",
              "│ ---       ┆ ---         ┆ ---       ┆ ---           ┆   ┆ ---       ┆ ---     ┆ ---   ┆ ---  │\n",
              "│ f64       ┆ f64         ┆ f64       ┆ f64           ┆   ┆ f64       ┆ u32     ┆ u32   ┆ u32  │\n",
              "╞═══════════╪═════════════╪═══════════╪═══════════════╪═══╪═══════════╪═════════╪═══════╪══════╡\n",
              "│ -0.191013 ┆ 1.940449    ┆ -0.183207 ┆ 2.104947      ┆ … ┆ 0.084954  ┆ 1       ┆ 1     ┆ 2    │\n",
              "│ 0.815294  ┆ -1.158514   ┆ -0.847928 ┆ 1.041242      ┆ … ┆ -0.787121 ┆ 0       ┆ 4     ┆ 2    │\n",
              "│ -0.24114  ┆ 1.320656    ┆ 1.01329   ┆ 0.468478      ┆ … ┆ 0.259369  ┆ 0       ┆ 4     ┆ 2    │\n",
              "│ 0.107245  ┆ -0.848618   ┆ 1.578303  ┆ 1.286713      ┆ … ┆ 1.654689  ┆ 0       ┆ 3     ┆ 3    │\n",
              "│ 0.481947  ┆ -0.848618   ┆ -1.080581 ┆ 0.468478      ┆ … ┆ -0.351083 ┆ 1       ┆ 1     ┆ 2    │\n",
              "└───────────┴─────────────┴───────────┴───────────────┴───┴───────────┴─────────┴───────┴──────┘"
            ],
            "text/html": [
              "<div><style>\n",
              ".dataframe > thead > tr,\n",
              ".dataframe > tbody > tr {\n",
              "  text-align: right;\n",
              "  white-space: pre-wrap;\n",
              "}\n",
              "</style>\n",
              "<small>shape: (5, 12)</small><table border=\"1\" class=\"dataframe\"><thead><tr><th>Id</th><th>Pregnancies</th><th>Glucose</th><th>BloodPressure</th><th>SkinThickness</th><th>Insulin</th><th>BMI</th><th>DiabetesPedigreeFunction</th><th>Age</th><th>Outcome</th><th>Quote</th><th>City</th></tr><tr><td>f64</td><td>f64</td><td>f64</td><td>f64</td><td>f64</td><td>f64</td><td>f64</td><td>f64</td><td>f64</td><td>u32</td><td>u32</td><td>u32</td></tr></thead><tbody><tr><td>-0.191013</td><td>1.940449</td><td>-0.183207</td><td>2.104947</td><td>-1.372169</td><td>-0.817307</td><td>-1.243157</td><td>2.014529</td><td>0.084954</td><td>1</td><td>1</td><td>2</td></tr><tr><td>0.815294</td><td>-1.158514</td><td>-0.847928</td><td>1.041242</td><td>0.256918</td><td>-0.417025</td><td>0.773973</td><td>-0.735292</td><td>-0.787121</td><td>0</td><td>4</td><td>2</td></tr><tr><td>-0.24114</td><td>1.320656</td><td>1.01329</td><td>0.468478</td><td>0.713063</td><td>1.517671</td><td>1.6019</td><td>0.219162</td><td>0.259369</td><td>0</td><td>4</td><td>2</td></tr><tr><td>0.107245</td><td>-0.848618</td><td>1.578303</td><td>1.286713</td><td>0.517572</td><td>-0.817307</td><td>0.412696</td><td>1.599394</td><td>1.654689</td><td>0</td><td>3</td><td>3</td></tr><tr><td>0.481947</td><td>-0.848618</td><td>-1.080581</td><td>0.468478</td><td>0.517572</td><td>0.027732</td><td>-0.0389</td><td>-0.316609</td><td>-0.351083</td><td>1</td><td>1</td><td>2</td></tr></tbody></table></div>"
            ]
          },
          "metadata": {},
          "execution_count": 85
        }
      ]
    },
    {
      "cell_type": "code",
      "source": [
        "class FeatureEngineering(DataNormaliseStandardise):\n",
        "    numarical_cols=[]\n",
        "    def __init__(self, df):\n",
        "        self.df = df\n",
        "        self.selected_cols=[]\n",
        "\n",
        "    @classmethod\n",
        "    def calc_col(cls):\n",
        "      cls.numeric_cols = [col for col, dtype in zip(df.columns, df.dtypes) if dtype in [pl.Float64, pl.Int64]]\n",
        "      print(\"Numeric columns:\", cls.numeric_cols)\n",
        "      print(df.select(pl.col(\"Age\").unique()).to_numpy().flatten())\n",
        "      return cls.numeric_cols\n",
        "\n",
        "    @staticmethod\n",
        "    def variance_threshold(self):\n",
        "      selector = VarianceThreshold(threshold=0.1)\n",
        "      df_numeric = self.df.select(self.numeric_cols).to_pandas()\n",
        "      selected_features = selector.fit_transform(df_numeric)\n",
        "      self.selected_cols = [FeatureEngineering.numeric_cols[i] for i in selector.get_support(indices=True)]\n",
        "      print(\"Selected features after VarianceThreshold:\", self.selected_cols)\n",
        "\n",
        "    @staticmethod\n",
        "    def correlation_filter(self):\n",
        "      corr_matrix = self.df.select(self.selected_cols).to_pandas().corr()\n",
        "      high_corr_cols = set()\n",
        "      for i in range(len(corr_matrix.columns)):\n",
        "          for j in range(i):\n",
        "              if abs(corr_matrix.iloc[i, j]) > 0.8:\n",
        "                  high_corr_cols.add(corr_matrix.columns[i])\n",
        "      self.selected_cols = [col for col in self.selected_cols if col not in high_corr_cols]\n",
        "      print(\"Selected features after correlation filter:\", self.selected_cols)\n",
        "\n",
        "    #Instance method\n",
        "    def selection_n_drop(self):\n",
        "      self.calc_col()\n",
        "      self.variance_threshold(self)\n",
        "      self.correlation_filter(self)\n",
        "      # Drop string columns (Quote, City) if not already dropped\n",
        "      self.df = self.df.drop(['Quote', 'City'])\n",
        "      plt.figure(figsize=(7, 4))\n",
        "      sns.heatmap(self.df.select(self.selected_cols).to_pandas().corr(), annot=True, cmap='coolwarm', fmt='.2f')\n",
        "      plt.title('Correlation Heatmap')\n",
        "      plt.show()\n",
        "\n",
        "    @staticmethod\n",
        "    def extraction_u_pca(self):\n",
        "      if len(self.selected_cols) > 100:\n",
        "          pca = PCA(n_components=0.95)  # Retain 95% variance\n",
        "          df_scaled = pca.fit_transform(self.df_scaled.to_pandas())\n",
        "          print(\"PCA applied, new feature count:\", df_scaled.shape[1])\n",
        "          df_scaled = pl.from_pandas(pd.DataFrame(df_scaled, columns=[f\"PC{i+1}\" for i in range(df_scaled.shape[1])]))\n",
        "          return df_scaled\n",
        "      else:\n",
        "          print(\"No PCA needed, feature count:\", len(self.selected_cols))\n",
        "          return self.df\n",
        "\n",
        "    def select_n_extract(self):\n",
        "      self.selection_n_drop()\n",
        "      self.df=self.extraction_u_pca(self)\n",
        "      print(\"\\nFeature Scaled Data:\")\n",
        "      print(self.df.head(2))\n",
        "      return self.df\n",
        "\n",
        "    def __del__(self):\n",
        "        with open(\"selected_cols.pkl\", \"wb\") as f:\n",
        "          pickle.dump(self.selected_cols, f)\n",
        "        print(\"FeatureEngineering object deleted\")\n"
      ],
      "metadata": {
        "id": "6OUGeTJa0t_0"
      },
      "execution_count": 86,
      "outputs": []
    },
    {
      "cell_type": "code",
      "source": [
        "dfse=FeatureEngineering(df)\n",
        "df=dfse.select_n_extract()"
      ],
      "metadata": {
        "colab": {
          "base_uri": "https://localhost:8080/",
          "height": 1000
        },
        "id": "cA0OvBFT8eua",
        "outputId": "b87423f2-859f-47a2-9c96-9b2f3e9964ef"
      },
      "execution_count": 87,
      "outputs": [
        {
          "output_type": "stream",
          "name": "stdout",
          "text": [
            "Numeric columns: ['Id', 'Pregnancies', 'Glucose', 'BloodPressure', 'SkinThickness', 'Insulin', 'BMI', 'DiabetesPedigreeFunction', 'Age']\n",
            "[-1.04874338e+00 -9.61535867e-01 -8.74328355e-01 -7.87120844e-01\n",
            " -6.99913333e-01 -6.12705821e-01 -5.25498310e-01 -4.38290799e-01\n",
            " -3.51083287e-01 -2.63875776e-01 -1.76668265e-01 -8.94607534e-02\n",
            " -2.25324212e-03  8.49542692e-02  1.72161781e-01  2.59369292e-01\n",
            "  3.46576803e-01  4.33784315e-01  5.20991826e-01  6.08199337e-01\n",
            "  6.95406849e-01  7.82614360e-01  8.69821871e-01  9.57029383e-01\n",
            "  1.04423689e+00  1.13144441e+00  1.21865192e+00  1.30585943e+00\n",
            "  1.39306694e+00  1.48027445e+00  1.56748196e+00  1.65468947e+00\n",
            "  1.74189698e+00  1.82910450e+00  1.91631201e+00  2.00351952e+00\n",
            "  2.09072703e+00  2.17793454e+00  2.26514205e+00  2.35234956e+00\n",
            "  2.43955708e+00  2.52676459e+00  2.61397210e+00  2.70117961e+00\n",
            "  2.78838712e+00  2.87559463e+00  2.96280214e+00  3.05000965e+00]\n",
            "Selected features after VarianceThreshold: ['Id', 'Pregnancies', 'Glucose', 'BloodPressure', 'SkinThickness', 'Insulin', 'BMI', 'DiabetesPedigreeFunction', 'Age']\n",
            "Selected features after correlation filter: ['Id', 'Pregnancies', 'Glucose', 'BloodPressure', 'SkinThickness', 'Insulin', 'BMI', 'DiabetesPedigreeFunction', 'Age']\n",
            "FeatureEngineering object deleted\n"
          ]
        },
        {
          "output_type": "display_data",
          "data": {
            "text/plain": [
              "<Figure size 700x400 with 2 Axes>"
            ],
            "image/png": "[encoded data removed]"
          },
          "metadata": {}
        },
        {
          "output_type": "stream",
          "name": "stdout",
          "text": [
            "No PCA needed, feature count: 9\n",
            "\n",
            "Feature Scaled Data:\n",
            "shape: (2, 10)\n",
            "┌───────────┬────────────┬───────────┬───────────┬───┬───────────┬───────────┬───────────┬─────────┐\n",
            "│ Id        ┆ Pregnancie ┆ Glucose   ┆ BloodPres ┆ … ┆ BMI       ┆ DiabetesP ┆ Age       ┆ Outcome │\n",
            "│ ---       ┆ s          ┆ ---       ┆ sure      ┆   ┆ ---       ┆ edigreeFu ┆ ---       ┆ ---     │\n",
            "│ f64       ┆ ---        ┆ f64       ┆ ---       ┆   ┆ f64       ┆ nction    ┆ f64       ┆ u32     │\n",
            "│           ┆ f64        ┆           ┆ f64       ┆   ┆           ┆ ---       ┆           ┆         │\n",
            "│           ┆            ┆           ┆           ┆   ┆           ┆ f64       ┆           ┆         │\n",
            "╞═══════════╪════════════╪═══════════╪═══════════╪═══╪═══════════╪═══════════╪═══════════╪═════════╡\n",
            "│ -0.191013 ┆ 1.940449   ┆ -0.183207 ┆ 2.104947  ┆ … ┆ -1.243157 ┆ 2.014529  ┆ 0.084954  ┆ 1       │\n",
            "│ 0.815294  ┆ -1.158514  ┆ -0.847928 ┆ 1.041242  ┆ … ┆ 0.773973  ┆ -0.735292 ┆ -0.787121 ┆ 0       │\n",
            "└───────────┴────────────┴───────────┴───────────┴───┴───────────┴───────────┴───────────┴─────────┘\n"
          ]
        }
      ]
    },
    {
      "cell_type": "code",
      "source": [
        "dfse.__del__()\n",
        "dfse.numarical_cols"
      ],
      "metadata": {
        "colab": {
          "base_uri": "https://localhost:8080/"
        },
        "id": "B9qGK76r9piI",
        "outputId": "ae5c6cf2-4aac-4963-f673-07c958c61f4e"
      },
      "execution_count": 88,
      "outputs": [
        {
          "output_type": "stream",
          "name": "stdout",
          "text": [
            "FeatureEngineering object deleted\n"
          ]
        },
        {
          "output_type": "execute_result",
          "data": {
            "text/plain": [
              "[]"
            ]
          },
          "metadata": {},
          "execution_count": 88
        }
      ]
    },
    {
      "cell_type": "code",
      "source": [
        "df.head()"
      ],
      "metadata": {
        "id": "x5jWLO4y6YVl",
        "colab": {
          "base_uri": "https://localhost:8080/",
          "height": 255
        },
        "outputId": "de4c3a08-29a3-400a-c1d3-42f8d359183a"
      },
      "execution_count": 89,
      "outputs": [
        {
          "output_type": "execute_result",
          "data": {
            "text/plain": [
              "shape: (5, 10)\n",
              "┌───────────┬────────────┬───────────┬───────────┬───┬───────────┬───────────┬───────────┬─────────┐\n",
              "│ Id        ┆ Pregnancie ┆ Glucose   ┆ BloodPres ┆ … ┆ BMI       ┆ DiabetesP ┆ Age       ┆ Outcome │\n",
              "│ ---       ┆ s          ┆ ---       ┆ sure      ┆   ┆ ---       ┆ edigreeFu ┆ ---       ┆ ---     │\n",
              "│ f64       ┆ ---        ┆ f64       ┆ ---       ┆   ┆ f64       ┆ nction    ┆ f64       ┆ u32     │\n",
              "│           ┆ f64        ┆           ┆ f64       ┆   ┆           ┆ ---       ┆           ┆         │\n",
              "│           ┆            ┆           ┆           ┆   ┆           ┆ f64       ┆           ┆         │\n",
              "╞═══════════╪════════════╪═══════════╪═══════════╪═══╪═══════════╪═══════════╪═══════════╪═════════╡\n",
              "│ -0.191013 ┆ 1.940449   ┆ -0.183207 ┆ 2.104947  ┆ … ┆ -1.243157 ┆ 2.014529  ┆ 0.084954  ┆ 1       │\n",
              "│ 0.815294  ┆ -1.158514  ┆ -0.847928 ┆ 1.041242  ┆ … ┆ 0.773973  ┆ -0.735292 ┆ -0.787121 ┆ 0       │\n",
              "│ -0.24114  ┆ 1.320656   ┆ 1.01329   ┆ 0.468478  ┆ … ┆ 1.6019    ┆ 0.219162  ┆ 0.259369  ┆ 0       │\n",
              "│ 0.107245  ┆ -0.848618  ┆ 1.578303  ┆ 1.286713  ┆ … ┆ 0.412696  ┆ 1.599394  ┆ 1.654689  ┆ 0       │\n",
              "│ 0.481947  ┆ -0.848618  ┆ -1.080581 ┆ 0.468478  ┆ … ┆ -0.0389   ┆ -0.316609 ┆ -0.351083 ┆ 1       │\n",
              "└───────────┴────────────┴───────────┴───────────┴───┴───────────┴───────────┴───────────┴─────────┘"
            ],
            "text/html": [
              "<div><style>\n",
              ".dataframe > thead > tr,\n",
              ".dataframe > tbody > tr {\n",
              "  text-align: right;\n",
              "  white-space: pre-wrap;\n",
              "}\n",
              "</style>\n",
              "<small>shape: (5, 10)</small><table border=\"1\" class=\"dataframe\"><thead><tr><th>Id</th><th>Pregnancies</th><th>Glucose</th><th>BloodPressure</th><th>SkinThickness</th><th>Insulin</th><th>BMI</th><th>DiabetesPedigreeFunction</th><th>Age</th><th>Outcome</th></tr><tr><td>f64</td><td>f64</td><td>f64</td><td>f64</td><td>f64</td><td>f64</td><td>f64</td><td>f64</td><td>f64</td><td>u32</td></tr></thead><tbody><tr><td>-0.191013</td><td>1.940449</td><td>-0.183207</td><td>2.104947</td><td>-1.372169</td><td>-0.817307</td><td>-1.243157</td><td>2.014529</td><td>0.084954</td><td>1</td></tr><tr><td>0.815294</td><td>-1.158514</td><td>-0.847928</td><td>1.041242</td><td>0.256918</td><td>-0.417025</td><td>0.773973</td><td>-0.735292</td><td>-0.787121</td><td>0</td></tr><tr><td>-0.24114</td><td>1.320656</td><td>1.01329</td><td>0.468478</td><td>0.713063</td><td>1.517671</td><td>1.6019</td><td>0.219162</td><td>0.259369</td><td>0</td></tr><tr><td>0.107245</td><td>-0.848618</td><td>1.578303</td><td>1.286713</td><td>0.517572</td><td>-0.817307</td><td>0.412696</td><td>1.599394</td><td>1.654689</td><td>0</td></tr><tr><td>0.481947</td><td>-0.848618</td><td>-1.080581</td><td>0.468478</td><td>0.517572</td><td>0.027732</td><td>-0.0389</td><td>-0.316609</td><td>-0.351083</td><td>1</td></tr></tbody></table></div>"
            ]
          },
          "metadata": {},
          "execution_count": 89
        }
      ]
    },
    {
      "cell_type": "code",
      "source": [
        "class TrainTest:\n",
        "    def __init__(self, df):\n",
        "        self.df = df\n",
        "\n",
        "    # Define the function to accept *args\n",
        "    def train_test_split(self, *args):\n",
        "        # Split the DataFrame\n",
        "        train_df = self.df[:args[0]]\n",
        "        test_df = self.df[args[0]:]\n",
        "        return train_df, test_df\n",
        "\n",
        "    # Define the function to accept **kwargs\n",
        "    def xy_split(self, **kwargs):\n",
        "        split_index = int(len(self.df) * 0.7)  # 70% for training\n",
        "        train_df, test_df = self.train_test_split(split_index)\n",
        "\n",
        "        # Prepare features and target\n",
        "        y_train = train_df[\"Outcome\"]\n",
        "        X_train = train_df.drop(\"Outcome\")  # No axis argument needed\n",
        "        y_test = test_df[\"Outcome\"]\n",
        "        X_test = test_df.drop(\"Outcome\")  # No axis argument needed\n",
        "\n",
        "        # Print additional kwargs\n",
        "        for key, value in kwargs.items():\n",
        "            print(f\"{key}: {value}\")\n",
        "\n",
        "        return X_train, X_test, y_train, y_test\n",
        "\n",
        "\n",
        "    def split_data(self):\n",
        "        X_train, X_test, y_train, y_test = self.xy_split(df_length=len(self.df), df_mean=self.df[\"Age\"].mean())\n",
        "\n",
        "        # Print shapes\n",
        "        print(\"Train shape:\", X_train.shape, \"Test shape:\", X_test.shape)\n",
        "        return X_train, X_test, y_train, y_test\n",
        "\n",
        "    def __del__(self):\n",
        "        print(\"TrainTest object deleted\")"
      ],
      "metadata": {
        "id": "nMdtpXhl-z0c"
      },
      "execution_count": 90,
      "outputs": []
    },
    {
      "cell_type": "code",
      "source": [
        "dtt=TrainTest(df)\n",
        "X_train, X_test, y_train, y_test=dtt.split_data()"
      ],
      "metadata": {
        "id": "zYZNiSqK6YOe",
        "colab": {
          "base_uri": "https://localhost:8080/"
        },
        "outputId": "7165dcb4-1b45-4045-bfc9-e5ed42768d5a"
      },
      "execution_count": 91,
      "outputs": [
        {
          "output_type": "stream",
          "name": "stdout",
          "text": [
            "df_length: 2477\n",
            "df_mean: 2.873043838452666e-16\n",
            "Train shape: (1733, 9) Test shape: (744, 9)\n"
          ]
        }
      ]
    },
    {
      "cell_type": "code",
      "source": [
        "dtt.__del__()"
      ],
      "metadata": {
        "colab": {
          "base_uri": "https://localhost:8080/"
        },
        "id": "xcKpBB2H-jkK",
        "outputId": "ab4480dc-14c4-4600-b858-4e9e41379ca0"
      },
      "execution_count": 92,
      "outputs": [
        {
          "output_type": "stream",
          "name": "stdout",
          "text": [
            "TrainTest object deleted\n"
          ]
        }
      ]
    },
    {
      "cell_type": "code",
      "source": [
        "from abc import ABC, abstractmethod\n",
        "class ML_Model(ABC):\n",
        "    @abstractmethod\n",
        "    def __init__(self, X_train, X_test, y_train, y_test):\n",
        "        self.X_train = X_train\n",
        "        self.X_test = X_test\n",
        "        self.y_train = y_train\n",
        "        self.y_test = y_test\n",
        "\n",
        "    @abstractmethod\n",
        "    def train_model(self):\n",
        "        pass\n",
        "\n",
        "    @abstractmethod\n",
        "    def evaluate_model(self):\n",
        "        pass\n",
        "\n",
        "    @abstractmethod\n",
        "    def visualize_results(self):\n",
        "        pass\n",
        "\n",
        "    @classmethod\n",
        "    @abstractmethod\n",
        "    def save_model(cls, model, file_path):\n",
        "        pass\n",
        "\n",
        "    @abstractmethod\n",
        "    def __del__(self):\n",
        "        pass"
      ],
      "metadata": {
        "id": "pyv5L4RV6YHf"
      },
      "execution_count": 93,
      "outputs": []
    },
    {
      "cell_type": "code",
      "source": [
        "class DecisionTree(ML_Model):\n",
        "    y_pred = []\n",
        "\n",
        "    def __init__(self, X_train, X_test, y_train, y_test):\n",
        "        super().__init__(X_train, X_test, y_train, y_test)\n",
        "        self.model = DecisionTreeClassifier(random_state=42)\n",
        "\n",
        "    def train_model(self):\n",
        "        self.model.fit(self.X_train, self.y_train)\n",
        "        print(\"Decision Tree model trained.\")\n",
        "\n",
        "    def evaluate_model(self):\n",
        "        DecisionTree.y_pred = self.model.predict(self.X_test)\n",
        "        # Calculate metrics\n",
        "        acc = accuracy_score(self.y_test, DecisionTree.y_pred)\n",
        "        prec = precision_score(self.y_test, DecisionTree.y_pred, average='weighted')\n",
        "        rec = recall_score(self.y_test, DecisionTree.y_pred, average='weighted')\n",
        "        f1 = f1_score(self.y_test, DecisionTree.y_pred, average='weighted')\n",
        "\n",
        "        print(f\"\\nDecision Tree Results:\")\n",
        "        print(f\"Accuracy: {acc:.4f}\")\n",
        "        print(f\"Precision: {prec:.4f}\")\n",
        "        print(f\"Recall: {rec:.4f}\")\n",
        "        print(f\"F1-Score: {f1:.4f}\")\n",
        "\n",
        "    def visualize_results(self):\n",
        "        cm = confusion_matrix(self.y_test, DecisionTree.y_pred)\n",
        "        plt.figure(figsize=(6, 4))\n",
        "        sns.heatmap(cm, annot=True, cmap='Blues', fmt='d', xticklabels=['No Diabetes', 'Diabetes'], yticklabels=['No Diabetes', 'Diabetes'])\n",
        "        plt.title('Decision Tree Confusion Matrix')\n",
        "        plt.xlabel('Predicted')\n",
        "        plt.ylabel('Actual')\n",
        "        plt.show()\n",
        "\n",
        "    @classmethod\n",
        "    def save_model(cls, model, file_path):\n",
        "        with open(file_path, 'wb') as file:\n",
        "            pickle.dump(model, file)\n",
        "        print(f\"Model saved to {file_path}\")\n",
        "\n",
        "    def __del__(self):\n",
        "        print(\"DecisionTree object deleted\")"
      ],
      "metadata": {
        "id": "iPn5Wy9fAgPF"
      },
      "execution_count": 94,
      "outputs": []
    },
    {
      "cell_type": "code",
      "source": [
        "mod_dt = DecisionTree(X_train, X_test, y_train, y_test)\n",
        "mod_dt.train_model()\n",
        "mod_dt.evaluate_model()\n",
        "mod_dt.visualize_results()\n",
        "DecisionTree.save_model(mod_dt.model, 'decision_tree_model.pkl')"
      ],
      "metadata": {
        "colab": {
          "base_uri": "https://localhost:8080/",
          "height": 573
        },
        "id": "cC62uY0yBqeW",
        "outputId": "f7f71e75-5290-42a4-d9bb-ff77ae1caf7f"
      },
      "execution_count": 95,
      "outputs": [
        {
          "output_type": "stream",
          "name": "stdout",
          "text": [
            "Decision Tree model trained.\n",
            "\n",
            "Decision Tree Results:\n",
            "Accuracy: 0.9637\n",
            "Precision: 0.9637\n",
            "Recall: 0.9637\n",
            "F1-Score: 0.9637\n",
            "DataNormaliseStandardise object deleted\n"
          ]
        },
        {
          "output_type": "display_data",
          "data": {
            "text/plain": [
              "<Figure size 600x400 with 2 Axes>"
            ],
            "image/png": "[encoded data removed]"
          },
          "metadata": {}
        },
        {
          "output_type": "stream",
          "name": "stdout",
          "text": [
            "Model saved to decision_tree_model.pkl\n"
          ]
        }
      ]
    },
    {
      "cell_type": "code",
      "source": [
        "class RandomForest(ML_Model):\n",
        "    y_pred = []\n",
        "    def __init__(self, X_train, X_test, y_train, y_test):\n",
        "        super().__init__(X_train, X_test, y_train, y_test)\n",
        "        self.model = RandomForestClassifier(random_state=42, n_estimators=100, max_depth=10)\n",
        "\n",
        "    def train_model(self):\n",
        "        self.model.fit(self.X_train, self.y_train)\n",
        "        print(\"Random Forest model trained.\")\n",
        "\n",
        "    def evaluate_model(self):\n",
        "        RandomForest.y_pred = self.model.predict(self.X_test)\n",
        "        # Calculate metrics\n",
        "        acc = accuracy_score(self.y_test, RandomForest.y_pred)\n",
        "        prec = precision_score(self.y_test, RandomForest.y_pred, average='weighted')\n",
        "        rec = recall_score(self.y_test, RandomForest.y_pred, average='weighted')\n",
        "        f1 = f1_score(self.y_test, RandomForest.y_pred, average='weighted')\n",
        "\n",
        "        print(f\"\\nRandom Forest Results:\")\n",
        "        print(f\"Accuracy: {acc:.4f}\")\n",
        "        print(f\"Precision: {prec:.4f}\")\n",
        "        print(f\"Recall: {rec:.4f}\")\n",
        "        print(f\"F1-Score: {f1:.4f}\")\n",
        "\n",
        "    def visualize_results(self):\n",
        "        cm = confusion_matrix(self.y_test, RandomForest.y_pred)\n",
        "        plt.figure(figsize=(6, 4))\n",
        "        sns.heatmap(cm, annot=True, cmap='Blues', fmt='d', xticklabels=['No Diabetes', 'Diabetes'], yticklabels=['No Diabetes', 'Diabetes'])\n",
        "        plt.title('Random Forest Confusion Matrix')\n",
        "        plt.xlabel('Predicted')\n",
        "        plt.ylabel('Actual')\n",
        "        plt.show()\n",
        "\n",
        "    @classmethod\n",
        "    def save_model(cls, model, file_path):\n",
        "        with open(file_path, 'wb') as file:\n",
        "            pickle.dump(model, file)\n",
        "        print(f\"Model saved to {file_path}\")\n",
        "\n",
        "    def __del__(self):\n",
        "        print(\"RandomForest object deleted\")"
      ],
      "metadata": {
        "id": "XHShDzC-DTvS"
      },
      "execution_count": 96,
      "outputs": []
    },
    {
      "cell_type": "code",
      "source": [
        "mod_rf = RandomForest(X_train, X_test, y_train, y_test)\n",
        "mod_rf.train_model()\n",
        "mod_rf.evaluate_model()\n",
        "mod_rf.visualize_results()\n",
        "RandomForest.save_model(mod_rf.model, 'random_forest_model.pkl')"
      ],
      "metadata": {
        "colab": {
          "base_uri": "https://localhost:8080/",
          "height": 555
        },
        "id": "nz9I4RRmEiJV",
        "outputId": "4990aca0-60bd-45b0-957d-4d647a189af9"
      },
      "execution_count": 97,
      "outputs": [
        {
          "output_type": "stream",
          "name": "stdout",
          "text": [
            "Random Forest model trained.\n",
            "\n",
            "Random Forest Results:\n",
            "Accuracy: 0.9516\n",
            "Precision: 0.9515\n",
            "Recall: 0.9516\n",
            "F1-Score: 0.9514\n"
          ]
        },
        {
          "output_type": "display_data",
          "data": {
            "text/plain": [
              "<Figure size 600x400 with 2 Axes>"
            ],
            "image/png": "[encoded data removed]"
          },
          "metadata": {}
        },
        {
          "output_type": "stream",
          "name": "stdout",
          "text": [
            "Model saved to random_forest_model.pkl\n"
          ]
        }
      ]
    },
    {
      "cell_type": "code",
      "source": [
        "class XGBoost(ML_Model):\n",
        "    y_pred = []\n",
        "    def __init__(self, X_train, X_test, y_train, y_test):\n",
        "        super().__init__(X_train, X_test, y_train, y_test)\n",
        "        self.model = xgb.XGBClassifier(random_state=42, n_estimators=100, learning_rate=0.1, max_depth=4)\n",
        "\n",
        "    def train_model(self):\n",
        "        self.model.fit(self.X_train, self.y_train)\n",
        "        print(\"XGBoost model trained.\")\n",
        "\n",
        "    def evaluate_model(self):\n",
        "        XGBoost.y_pred = self.model.predict(self.X_test)\n",
        "        # Calculate metrics\n",
        "        acc = accuracy_score(self.y_test, XGBoost.y_pred)\n",
        "        prec = precision_score(self.y_test, XGBoost.y_pred, average='weighted')\n",
        "        rec = recall_score(self.y_test, XGBoost.y_pred, average='weighted')\n",
        "        f1 = f1_score(self.y_test, XGBoost.y_pred, average='weighted')\n",
        "        print(f\"\\nXGBoost Results:\")\n",
        "        print(f\"Accuracy: {acc:.4f}\")\n",
        "        print(f\"Precision: {prec:.4f}\")\n",
        "        print(f\"Recall: {rec:.4f}\")\n",
        "        print(f\"F1-Score: {f1:.4f}\")\n",
        "\n",
        "    def visualize_results(self):\n",
        "        cm = confusion_matrix(self.y_test, XGBoost.y_pred)\n",
        "        plt.figure(figsize=(6, 4))\n",
        "        sns.heatmap(cm, annot=True, cmap='Blues', fmt='d', xticklabels=['No Diabetes', 'Diabetes'], yticklabels=['No Diabetes', 'Diabetes'])\n",
        "        plt.title('XGBoost Confusion Matrix')\n",
        "        plt.xlabel('Predicted')\n",
        "        plt.ylabel('Actual')\n",
        "        plt.show()\n",
        "\n",
        "    @classmethod\n",
        "    def save_model(cls, model, file_path):\n",
        "        with open(file_path, 'wb') as file:\n",
        "            pickle.dump(model, file)\n",
        "        print(f\"Model saved to {file_path}\")\n",
        "\n",
        "    def __del__(self):\n",
        "        print(\"XGBoost object deleted\")"
      ],
      "metadata": {
        "id": "nG9SlN2GEpFj"
      },
      "execution_count": 98,
      "outputs": []
    },
    {
      "cell_type": "code",
      "source": [
        "mod_xgb = XGBoost(X_train, X_test, y_train, y_test)\n",
        "mod_xgb.train_model()\n",
        "mod_xgb.evaluate_model()\n",
        "mod_xgb.visualize_results()\n",
        "XGBoost.save_model(mod_xgb.model, 'xgboost_model.pkl')"
      ],
      "metadata": {
        "colab": {
          "base_uri": "https://localhost:8080/",
          "height": 555
        },
        "id": "oYpFCWvJE65N",
        "outputId": "d5e9db8f-f076-4bf4-945a-c8e8eb31c60e"
      },
      "execution_count": 99,
      "outputs": [
        {
          "output_type": "stream",
          "name": "stdout",
          "text": [
            "XGBoost model trained.\n",
            "\n",
            "XGBoost Results:\n",
            "Accuracy: 0.9005\n",
            "Precision: 0.9000\n",
            "Recall: 0.9005\n",
            "F1-Score: 0.8992\n"
          ]
        },
        {
          "output_type": "display_data",
          "data": {
            "text/plain": [
              "<Figure size 600x400 with 2 Axes>"
            ],
            "image/png": "[encoded data removed]"
          },
          "metadata": {}
        },
        {
          "output_type": "stream",
          "name": "stdout",
          "text": [
            "Model saved to xgboost_model.pkl\n"
          ]
        }
      ]
    },
    {
      "cell_type": "code",
      "source": [],
      "metadata": {
        "id": "4Vnmm1MjLt8a"
      },
      "execution_count": null,
      "outputs": []
    },
    {
      "cell_type": "code",
      "source": [
        "from sklearn.preprocessing import LabelEncoder, StandardScaler\n",
        "model = pickle.load(open(\"xgboost_model.pkl\", \"rb\"))\n",
        "scaler = pickle.load(open(\"scaler.pkl\", \"rb\"))\n",
        "label_encoders = pickle.load(open(\"label_encoders.pkl\", \"rb\"))  # Dict of encoders\n",
        "selected_columns = pickle.load(open(\"selected_cols.pkl\", \"rb\"))\n",
        "\n",
        "# --- Manual input ---\n",
        "sample_input = {\n",
        "    'Id': 12, # Added dummy Id\n",
        "    'Pregnancies': 3,\n",
        "    'Glucose': 140,\n",
        "    'BloodPressure': 70,\n",
        "    'SkinThickness': 20,\n",
        "    'Insulin': 85,\n",
        "    'BMI': 32.4,\n",
        "    'DiabetesPedigreeFunction': 0.6,\n",
        "    'Age': 45,\n",
        "    'Quote': \"Live well\",        # Categorical Optional (may or may not provided by default it will be \"Live well\")\n",
        "    'City': \"Houston\",           # Categorical Optional (may or may not provided by default it will be \"Houston\")\n",
        "    'Outcome': \"Diabetes\"        # Needed only if you want to compare\n",
        "}\n",
        "\n",
        "# --- Convert to DataFrame ---\n",
        "sample_df = pd.DataFrame([sample_input])\n",
        "sample_df = pl.from_pandas(sample_df)\n",
        "\n",
        "# --- Encode categorical using saved label_encoders ---\n",
        "for col in ['Quote', 'City', 'Outcome']:\n",
        "    le = label_encoders[col]\n",
        "    sample_df = sample_df.with_columns(\n",
        "        pl.Series(col, le.transform(sample_df[col].to_pandas())).cast(pl.UInt32).alias(col)\n",
        "    )\n",
        "\n",
        "# --- Scale numeric columns ---\n",
        "numeric_cols = ['Id', 'Pregnancies', 'Glucose', 'BloodPressure', 'SkinThickness', 'Insulin', 'BMI', 'DiabetesPedigreeFunction', 'Age'] # Added Id to numeric_cols\n",
        "sample_df_pandas = sample_df.to_pandas()\n",
        "sample_df_pandas[numeric_cols] = scaler.transform(sample_df_pandas[numeric_cols])\n",
        "\n",
        "# --- Convert back to Polars ---\n",
        "sample_df = pl.from_pandas(sample_df_pandas)\n",
        "\n",
        "# --- Select only final features ---\n",
        "sample_df = sample_df.select(selected_columns)\n",
        "\n",
        "# --- Predict ---\n",
        "prediction = model.predict(sample_df.to_pandas())[0]\n",
        "pred_label = \"Diabetes\" if prediction == 1 else \"No Diabetes\"\n",
        "\n",
        "print(f\"Prediction: {pred_label}\")"
      ],
      "metadata": {
        "colab": {
          "base_uri": "https://localhost:8080/"
        },
        "id": "21EjqNQkZO2G",
        "outputId": "d971edb5-1a4e-4835-876b-b57d02fa7e0d"
      },
      "execution_count": 106,
      "outputs": [
        {
          "output_type": "stream",
          "name": "stdout",
          "text": [
            "Prediction: No Diabetes\n"
          ]
        }
      ]
    },
    {
      "cell_type": "code",
      "source": [],
      "metadata": {
        "id": "YObtqnW_ZOyj"
      },
      "execution_count": null,
      "outputs": []
    }
  ]
}